{
  "nbformat": 4,
  "nbformat_minor": 0,
  "metadata": {
    "colab": {
      "name": "Assignment1.ipynb",
      "provenance": [],
      "authorship_tag": "ABX9TyO3FM/5SJou4CX2ipj+bt7a",
      "include_colab_link": true
    },
    "kernelspec": {
      "name": "python3",
      "display_name": "Python 3"
    },
    "language_info": {
      "name": "python"
    }
  },
  "cells": [
    {
      "cell_type": "markdown",
      "metadata": {
        "id": "view-in-github",
        "colab_type": "text"
      },
      "source": [
        "<a href=\"https://colab.research.google.com/github/mabonmn/Python_Course-STUDENT/blob/Assignment_1/Assignment1.ipynb\" target=\"_parent\"><img src=\"https://colab.research.google.com/assets/colab-badge.svg\" alt=\"Open In Colab\"/></a>"
      ]
    },
    {
      "cell_type": "markdown",
      "source": [
        "The Purpose of this assignment is to test your undertading of control flow\n",
        "and conditional Statements. Write a program that divides two numbers a and b\n",
        "to generates the quotient Q and the remainder R without using division\n",
        "commands in python. What we are looking for is that you subtract b from a\n",
        "till subtraction is not possible anymore. (Implementation of division using subtraction) \n",
        "Use the following starter code and fill in all parts that have been indicated to be completed.\n",
        "Note: Do not remove the class call control. Make changes in both the Function of the class “div” and the main function as indicated by the *"
      ],
      "metadata": {
        "id": "bwCg94RJOlyC"
      }
    },
    {
      "cell_type": "markdown",
      "source": [
        "Note: complete is a boolean variable which should be initialized to falses. When you believe that division is complete return True"
      ],
      "metadata": {
        "id": "EfcGC3peOzsV"
      }
    },
    {
      "cell_type": "code",
      "execution_count": null,
      "metadata": {
        "id": "ksKgRk_uN7qh"
      },
      "outputs": [],
      "source": [
        "class control():\n",
        "\n",
        "\n",
        "    def div(self,a,b):\n",
        "        complete=***?***\n",
        "        r=0\n",
        "        q=0\n",
        "        #Insert your code bellow:\n",
        "\n",
        "\n",
        "\n",
        "\n",
        "\n",
        "\n",
        "\n",
        "\n",
        "\n",
        "\n",
        "\n",
        "        ###########\n",
        "        return(complete,q,r)"
      ]
    },
    {
      "cell_type": "code",
      "source": [
        "if __name__ == '__main__':\n",
        "    calc = control()\n",
        "    \n",
        "    #SAMPLE TEST:\n",
        "    complete,Quotient,Remainder=calc.div(3,10)\n",
        "    \n",
        "    if(complete==True):\n",
        "        print(\"Quotient: \",Quotient)\n",
        "        print(\"Remainder: \",Remainder)\n",
        "    else:\n",
        "        ## FILL CODE HERE!\n",
        "        \n",
        "        \n"
      ],
      "metadata": {
        "id": "uUKXerpoPRYo"
      },
      "execution_count": null,
      "outputs": []
    }
  ]
}